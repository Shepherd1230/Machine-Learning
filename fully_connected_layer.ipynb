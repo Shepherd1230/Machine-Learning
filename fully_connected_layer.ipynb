{
 "cells": [
  {
   "cell_type": "code",
   "execution_count": 8,
   "metadata": {},
   "outputs": [
    {
     "name": "stdout",
     "output_type": "stream",
     "text": [
      "MyNet(\n",
      "  (f1): Linear(in_features=10, out_features=200, bias=True)\n",
      "  (f2): Linear(in_features=200, out_features=10, bias=True)\n",
      ")\n",
      "tensor([1., 1., 1., 1., 1., 1., 1., 1., 1., 1.])\n",
      "tensor([0.1233, 0.1637, 0.0575, 0.1259, 0.0916, 0.0567, 0.0587, 0.0977, 0.1497,\n",
      "        0.0752], grad_fn=<SoftmaxBackward>)\n"
     ]
    }
   ],
   "source": [
    "# 两层的全连接层神经网络\n",
    "\n",
    "import torch\n",
    "import torch.nn as nn\n",
    "import torch.nn.functional as F\n",
    "\n",
    "class MyNet(nn.Module):\n",
    "    def __init__(self):\n",
    "        super(MyNet, self).__init__()  #调用父类的初始化函数\n",
    "        self.f1 = nn.Linear(10, 200)\n",
    "        self.f2 = nn.Linear(200, 10)\n",
    "    def forward(self, x):\n",
    "        x = self.f1(x)\n",
    "        x = F.relu(x)\n",
    "        x = self.f2(x)\n",
    "        x = F.softmax(x,dim=-1)\n",
    "        return x\n",
    "\n",
    "    \n",
    "x=torch.ones(10,dtype=torch.float)\n",
    "net=MyNet()\n",
    "print(net)\n",
    "\n",
    "y=net(x)\n",
    "print(x)\n",
    "print(y)"
   ]
  },
  {
   "cell_type": "code",
   "execution_count": null,
   "metadata": {},
   "outputs": [],
   "source": []
  }
 ],
 "metadata": {
  "kernelspec": {
   "display_name": "Python 3",
   "language": "python",
   "name": "python3"
  },
  "language_info": {
   "codemirror_mode": {
    "name": "ipython",
    "version": 3
   },
   "file_extension": ".py",
   "mimetype": "text/x-python",
   "name": "python",
   "nbconvert_exporter": "python",
   "pygments_lexer": "ipython3",
   "version": "3.6.6"
  }
 },
 "nbformat": 4,
 "nbformat_minor": 2
}
